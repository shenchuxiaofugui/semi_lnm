{
 "cells": [
  {
   "cell_type": "code",
   "execution_count": 1,
   "metadata": {},
   "outputs": [],
   "source": [
    "import pandas as pd\n",
    "import nibabel as nib\n",
    "import numpy as np\n",
    "from skimage import measure\n",
    "import json\n",
    "import os\n",
    "join = os.path.join"
   ]
  },
  {
   "cell_type": "code",
   "execution_count": 9,
   "metadata": {},
   "outputs": [
    {
     "data": {
      "text/plain": [
       "dict_keys(['a', 'b'])"
      ]
     },
     "execution_count": 9,
     "metadata": {},
     "output_type": "execute_result"
    }
   ],
   "source": [
    "a = {'a':1, 'b':2}\n",
    "for key, value in a.items():\n",
    "    a[key] = value + 1\n",
    "a.keys()"
   ]
  },
  {
   "cell_type": "code",
   "execution_count": 8,
   "metadata": {},
   "outputs": [],
   "source": [
    "root = \"/homes/syli/dataset/EC_all/EC_114_spacing\"\n",
    "df = pd.read_csv(\"/homes/syli/dataset/LVSI_LNM/train_clinical_feature.csv\")\n",
    "casenames = df[\"CaseName\"].tolist()\n",
    "labels = df[[\"LVSI\", \"LNM\"]].values.tolist()\n",
    "caselist = []\n",
    "for i, j in zip(casenames, labels):\n",
    "    casedict = {\"DWI\": join(root, i, f\"DWI_resampled.nii\"),\n",
    "                 \"T1CE\": join(root, i, f\"T1CE_resampled.nii\"),\n",
    "                   \"T2\": join(root, i, f\"T2_resampled.nii\"), \"label\": j,\n",
    "                   \"DWI_roi\": join(root, i, f\"DWI_roi_resampled.nii.gz\"),\n",
    "                   \"T1CE_roi\": join(root, i, f\"T1CE_roi_resampled.nii.gz\"),\n",
    "                   \"T2_roi\": join(root, i, f\"T2_roi_resampled.nii.gz\")}\n",
    "    caselist.append(casedict)\n",
    "a = dict()\n",
    "a[\"train\"] = caselist\n",
    "df = pd.read_csv(\"/homes/syli/dataset/LVSI_LNM/test_clinical_feature.csv\")\n",
    "casenames = df[\"CaseName\"].tolist()\n",
    "labels = df[[\"LVSI\", \"LNM\"]].values.tolist()\n",
    "caselist = []\n",
    "for i, j in zip(casenames, labels):\n",
    "    casedict = {\"DWI\": join(root, i, f\"DWI_resampled.nii\"),\n",
    "                 \"T1CE\": join(root, i, f\"T1CE_resampled.nii\"),\n",
    "                   \"T2\": join(root, i, f\"T2_resampled.nii\"), \"label\": j,\n",
    "                   \"DWI_roi\": join(root, i, f\"DWI_roi_resampled.nii.gz\"),\n",
    "                   \"T1CE_roi\": join(root, i, f\"T1CE_roi_resampled.nii.gz\"),\n",
    "                   \"T2_roi\": join(root, i, f\"T2_roi_resampled.nii.gz\")}\n",
    "    caselist.append(casedict)\n",
    "a[\"validation\"] = caselist\n",
    "with open(\"/homes/syli/dataset/LVSI_LNM/dataset.json\", \"w\") as f:\n",
    "    json.dump(a, f)"
   ]
  },
  {
   "cell_type": "code",
   "execution_count": 7,
   "metadata": {},
   "outputs": [
    {
     "name": "stdout",
     "output_type": "stream",
     "text": [
      "[210 250  16]\n",
      "[250 250  20]\n",
      "[221 221  12]\n"
     ]
    }
   ],
   "source": [
    "root = \"/homes/syli/dataset/EC_all/EC_114_spacing\"\n",
    "df = pd.read_csv(\"/homes/syli/dataset/LVSI_LNM/test_clinical_feature.csv\")\n",
    "casenames = df[\"CaseName\"].tolist()\n",
    "for modal in [\"T1CE\", \"T2\", \"DWI\"]:\n",
    "    shapes = []\n",
    "    for i in casenames:\n",
    "        img = nib.load(join(root, i, f\"{modal}_roi_resampled.nii.gz\"))\n",
    "        img_data = img.get_fdata()\n",
    "        bbox = measure.regionprops(measure.label(img_data))[0].bbox\n",
    "        \n",
    "        shapes.append(img_data.shape)\n",
    "    shapes = np.array(shapes)\n",
    "    \n",
    "    print(np.min(shapes, axis=0))"
   ]
  }
 ],
 "metadata": {
  "kernelspec": {
   "display_name": "monai",
   "language": "python",
   "name": "python3"
  },
  "language_info": {
   "codemirror_mode": {
    "name": "ipython",
    "version": 3
   },
   "file_extension": ".py",
   "mimetype": "text/x-python",
   "name": "python",
   "nbconvert_exporter": "python",
   "pygments_lexer": "ipython3",
   "version": "3.11.5"
  },
  "orig_nbformat": 4
 },
 "nbformat": 4,
 "nbformat_minor": 2
}
